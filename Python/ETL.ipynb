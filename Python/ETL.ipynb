{
 "cells": [
  {
   "cell_type": "markdown",
   "id": "d9ee0282-fe07-40a7-9e43-8dd89630c6dd",
   "metadata": {},
   "source": [
    "# ETL para adquisicion de datos"
   ]
  },
  {
   "cell_type": "markdown",
   "id": "3b0293e9-cc1e-44d0-ac97-5a8981664fc8",
   "metadata": {},
   "source": [
    "Este script realiza la limpieza de datos provenientes de un archivo CSV para luego insertarlos en una base de datos. Para garantizar el correcto funcionamiento, es crucial ejecutar todas las celdas en serie, con una excepción en la segunda que debe ser ignorada si no se planea ejecutar.\n",
    "\n",
    "A continuación, se detallan las bibliotecas necesarias y las instrucciones para su instalación:\n",
    "\n",
    "`numpy`: Instálalo usando el comando 'pip/conda install numpy' en tu terminal o consola.\n",
    "\n",
    "`pandas`: Instálalo usando el comando 'pip/conda install pandas' en tu terminal o consola.\n",
    "\n",
    "`mysql`.connector: Para instalarlo con pip, usa el comando 'pip install mysql-connector-python'.\n",
    "\n",
    "`datetime`: Esta biblioteca se instala automáticamente con Python."
   ]
  },
  {
   "cell_type": "markdown",
   "id": "c360ab95-eefa-4b59-89e0-c9bee0a45ded",
   "metadata": {},
   "source": [
    "En este primer bloque se carga el archivo CSV. La dirección del archivo, incluyendo su ubicación relativa a la carpeta, debe ser especificada entre comillas simples, por ejemplo: 'Subcarpeta/archivo.csv'. Además, el separador de campos debe ser definido en el argumento sep, eligiendo entre comas (`,`), tabulaciones (`   `), punto y coma (`;`) o cualquier otro separador.\n",
    "\n",
    "Para manejar los datos faltantes, se emplea la cadena 'No reporta' como valor de relleno."
   ]
  },
  {
   "cell_type": "code",
   "execution_count": 1,
   "id": "c1afca53-d675-4ed0-bfed-c9c036886386",
   "metadata": {},
   "outputs": [
    {
     "data": {
      "text/html": [
       "<div>\n",
       "<style scoped>\n",
       "    .dataframe tbody tr th:only-of-type {\n",
       "        vertical-align: middle;\n",
       "    }\n",
       "\n",
       "    .dataframe tbody tr th {\n",
       "        vertical-align: top;\n",
       "    }\n",
       "\n",
       "    .dataframe thead th {\n",
       "        text-align: right;\n",
       "    }\n",
       "</style>\n",
       "<table border=\"1\" class=\"dataframe\">\n",
       "  <thead>\n",
       "    <tr style=\"text-align: right;\">\n",
       "      <th></th>\n",
       "      <th>id_case</th>\n",
       "      <th>id_municipality</th>\n",
       "      <th>name_municipality</th>\n",
       "      <th>id_department</th>\n",
       "      <th>name_department</th>\n",
       "      <th>age</th>\n",
       "      <th>gender</th>\n",
       "      <th>type_contagion</th>\n",
       "      <th>status</th>\n",
       "      <th>date_symptom</th>\n",
       "      <th>date_death</th>\n",
       "      <th>date_diagnosis</th>\n",
       "      <th>date_recovery</th>\n",
       "    </tr>\n",
       "  </thead>\n",
       "  <tbody>\n",
       "    <tr>\n",
       "      <th>0</th>\n",
       "      <td>489982</td>\n",
       "      <td>25</td>\n",
       "      <td>CUNDINAMARCA</td>\n",
       "      <td>25899</td>\n",
       "      <td>ZIPAQUIRA</td>\n",
       "      <td>22</td>\n",
       "      <td>F</td>\n",
       "      <td>Comunitaria</td>\n",
       "      <td>Recuperado</td>\n",
       "      <td>2/08/2020</td>\n",
       "      <td>No reporta</td>\n",
       "      <td>18/08/2020</td>\n",
       "      <td>20/12/2020</td>\n",
       "    </tr>\n",
       "    <tr>\n",
       "      <th>1</th>\n",
       "      <td>5932109</td>\n",
       "      <td>25</td>\n",
       "      <td>CUNDINAMARCA</td>\n",
       "      <td>25758</td>\n",
       "      <td>SOPO</td>\n",
       "      <td>50</td>\n",
       "      <td>M</td>\n",
       "      <td>Comunitaria</td>\n",
       "      <td>Recuperado</td>\n",
       "      <td>18/01/2022</td>\n",
       "      <td>No reporta</td>\n",
       "      <td>2/02/2022</td>\n",
       "      <td>5/02/2022</td>\n",
       "    </tr>\n",
       "  </tbody>\n",
       "</table>\n",
       "</div>"
      ],
      "text/plain": [
       "   id_case  id_municipality name_municipality  id_department name_department  \\\n",
       "0   489982               25      CUNDINAMARCA          25899       ZIPAQUIRA   \n",
       "1  5932109               25      CUNDINAMARCA          25758            SOPO   \n",
       "\n",
       "   age gender type_contagion      status date_symptom  date_death  \\\n",
       "0   22      F    Comunitaria  Recuperado    2/08/2020  No reporta   \n",
       "1   50      M    Comunitaria  Recuperado   18/01/2022  No reporta   \n",
       "\n",
       "  date_diagnosis date_recovery  \n",
       "0     18/08/2020    20/12/2020  \n",
       "1      2/02/2022     5/02/2022  "
      ]
     },
     "execution_count": 1,
     "metadata": {},
     "output_type": "execute_result"
    }
   ],
   "source": [
    "import pandas as pd \n",
    "import numpy as np\n",
    "from datetime import datetime\n",
    "Df=pd.read_csv('OneDrive_1_3-7-2024/Casos_positivos_de_COVID-19-Cund-Boy.csv', sep=';').fillna('No reporta')\n",
    "Df.head(2)"
   ]
  },
  {
   "cell_type": "markdown",
   "id": "f3f354d3-ec0d-4fcc-85aa-2e6605dcba48",
   "metadata": {},
   "source": [
    "## En caso de desear añadir datos provenientes de más de un archivo, se debe utilizar la siguiente casilla. De lo contrario, saltar directamente a la tercera.\n",
    "Para esto usar los Dataframes necesarios (D2,D3,....DN), especificando la ruta como se hizo en la primera casilla, adicionalmente usar entre los parentesis del comando `pd.concat` unicamente los Dataframes usados, `asegurarse de eliminar los sobrantes` ([D1,D2,...,DN])"
   ]
  },
  {
   "cell_type": "code",
   "execution_count": null,
   "id": "5b1ab3d4-4fc1-4ac9-bfc0-b3fe608a8024",
   "metadata": {
    "scrolled": true
   },
   "outputs": [],
   "source": [
    "D2=pd.read_csv('', sep=';').fillna('No reporta')\n",
    "#D3=pd.read_csv('', sep=';').fillna('No reporta')\n",
    "#D4=pd.read_csv('', sep=';').fillna('No reporta')\n",
    "Df=pd.concat([D1,D2,D3,D4]).drop_duplicates('id_case')"
   ]
  },
  {
   "cell_type": "markdown",
   "id": "cf3dfd26-7c9a-4492-96ae-7d05673f111e",
   "metadata": {},
   "source": [
    "### Conexion con el servidor\n",
    "\n",
    "Para esta propuesta, se establece la conexión con el servidor local utilizando XAMPP. Es importante tener activo el servidor local y tener en cuenta que no se podrá acceder desde otra aplicación si mysql.connector está activo.\n",
    "\n",
    "Sin embargo, es posible cambiar la ubicación del host, usuario y contraseña. Solo necesitas modificar los valores correspondientes entre comillas dobles según tus requerimientos."
   ]
  },
  {
   "cell_type": "code",
   "execution_count": 2,
   "id": "73371529-dfe0-4cee-8d45-0fce69414890",
   "metadata": {
    "scrolled": true
   },
   "outputs": [],
   "source": [
    "import mysql.connector\n",
    "cnx = mysql.connector.connect(\n",
    "  host=\"localhost\",\n",
    "  user=\"root\",\n",
    "  password=\"\",\n",
    "  database='Casos_Covid')\n",
    "\n",
    "cursor = cnx.cursor()"
   ]
  },
  {
   "cell_type": "markdown",
   "id": "1ef8436f-9f27-4956-8e18-cc16c0f8c556",
   "metadata": {},
   "source": [
    "### Carga de Datos unicos\n",
    "Con el objetivo de evitar peticiones innecesarias, se procede a eliminar los datos de la tabla en la base de datos cuyo campo id_case ya esté registrado. Este campo se trata como un identificador único para cada registro.\n",
    "\n",
    "Es importante destacar que si todas las tablas excepto la última (cases) no se llenan con datos, el código las tratará como si ninguna tabla hubiera sido llenada."
   ]
  },
  {
   "cell_type": "code",
   "execution_count": null,
   "id": "17217d7d-f66f-47ac-8872-16a15b07eae9",
   "metadata": {
    "scrolled": true
   },
   "outputs": [],
   "source": [
    "cursor.execute(\"SELECT id_case FROM cases\" )\n",
    "\n",
    "result = cursor.fetchall()\n",
    "\n",
    "id_case=list(Df[\"id_case\"])\n",
    "Data_cleaner= np.setdiff1d(id_case,result)\n",
    "\n",
    "mask = Df['id_case'].isin(Data_cleaner)\n",
    "Data = Df[mask].copy()\n",
    "Data.head(2)"
   ]
  },
  {
   "cell_type": "markdown",
   "id": "a94bdab4-65f3-4169-8504-32e87b5e6448",
   "metadata": {},
   "source": [
    "### Extraccion unica de Departamentos y municipios\n",
    "\n",
    "Se parte del supuesto de que los datos provenientes de otros departamentos y municipios poseerán identificadores que no se superponen con los actuales. Sin embargo, en caso de interferencia, se deberá aplicar un enfoque similar al utilizado en la fórmula `clean_datos_previos`, que se encuentra en la siguiente casilla.\n",
    "\n",
    "Por último, se intercambian las columnas ya que los campos de `municipios` y `departamentos` están cruzados."
   ]
  },
  {
   "cell_type": "code",
   "execution_count": null,
   "id": "f33631d8-033a-41dd-8604-4cffa1f6dc0f",
   "metadata": {},
   "outputs": [],
   "source": [
    "name_department=Data.drop_duplicates(['id_municipality', 'name_municipality'], keep='last').reset_index()\n",
    "name_municipality=Data.drop_duplicates(['id_department', 'name_department'], keep='last').reset_index()  "
   ]
  },
  {
   "cell_type": "markdown",
   "id": "c52fb6cc-af81-4317-a42c-7b6ca966953f",
   "metadata": {},
   "source": [
    "### Extraccion unica de datos sobre genero, estado y el tipo de contagio\n",
    "mediante la funcion clean_datos_previos se limpian los datos para subir unicamente aquellos que no esten registrados en las tablas correspondientes, con esto se consigue que el identificador permanezca sin saltos de numero"
   ]
  },
  {
   "cell_type": "code",
   "execution_count": null,
   "id": "625c9e54-d574-4003-9399-6f8232f42478",
   "metadata": {},
   "outputs": [],
   "source": [
    "def clean_datos_previos(df, columna, sql_table, sql_columna):\n",
    "    data=df[columna].drop_duplicates().reset_index()\n",
    "    df_list=list(df[columna])\n",
    "    query=\"SELECT \"+sql_columna+\" FROM \"+ sql_table \n",
    "    cursor.execute(query)\n",
    "    \n",
    "    result = cursor.fetchall()\n",
    "    df_cleaner= np.setdiff1d(df_list,result)\n",
    "    \n",
    "    mask = data[columna].isin(df_cleaner)\n",
    "    return data[mask].copy()\n",
    "gender = clean_datos_previos(Data, 'gender', 'Gender','name')\n",
    "status = clean_datos_previos(Data, 'status', 'Status','name')\n",
    "type_contagion = clean_datos_previos(Data, 'type_contagion', 'Type_Contagion','name')\n",
    "type_contagion.head()"
   ]
  },
  {
   "cell_type": "markdown",
   "id": "d6e125f8-8a7d-46cf-a1da-3272ceda6552",
   "metadata": {},
   "source": [
    "### Conversion de fechas al formato admitido por SQL"
   ]
  },
  {
   "cell_type": "code",
   "execution_count": null,
   "id": "1bf93e97-236d-454e-9d4b-ed0b36746480",
   "metadata": {},
   "outputs": [],
   "source": [
    "fechas=Data[['date_symptom','date_death','date_diagnosis','date_recovery']]\n",
    "for col in fechas.columns:\n",
    "    Data[col] = pd.to_datetime(Data[col], format='%d/%m/%Y', errors='coerce')\n",
    "\n",
    "Data.head(2)"
   ]
  },
  {
   "cell_type": "markdown",
   "id": "36a74dd3-9d23-452b-842e-a828f008692e",
   "metadata": {},
   "source": [
    "### Actualización de datos en las tablas menores"
   ]
  },
  {
   "cell_type": "code",
   "execution_count": null,
   "id": "278e55bc-b135-491b-b557-9bc20b2855c4",
   "metadata": {
    "scrolled": true
   },
   "outputs": [],
   "source": [
    "for i in range(0,len(name_department)):\n",
    "    try: \n",
    "        add_Departamento = (\"INSERT INTO Department \"\n",
    "                            \"(id_department,name) \"\n",
    "                            \"VALUES (%(id_dep)s, %(name)s)\")\n",
    "        data_Departamento = ({'id_dep': int(name_department['id_municipality'][i]),\n",
    "                             'name': name_department['name_municipality'][i]})\n",
    "        cursor.execute(add_Departamento, data_Departamento)\n",
    "    \n",
    "        \n",
    "    except:\n",
    "        pass\n",
    "    cnx.commit()"
   ]
  },
  {
   "cell_type": "code",
   "execution_count": null,
   "id": "387cf38a-9afd-46ef-8e48-b8932527cd2f",
   "metadata": {
    "scrolled": true
   },
   "outputs": [],
   "source": [
    "for i in range(0,len(name_municipality)):\n",
    "    try: \n",
    "        add_Municipio = (\"INSERT INTO Municipality \"\n",
    "                            \"(id_municipality,name, id_department) \"\n",
    "                            \"VALUES (%(id_mun)s, %(name)s, %(id_dep)s)\")\n",
    "        data_Municipio = ({'id_mun': int(name_municipality['id_department'][i]),\n",
    "                             'name': name_municipality['name_department'][i]+', '+name_municipality['name_municipality'][i],\n",
    "                            'id_dep': int(name_municipality['id_municipality'][i])})\n",
    "        cursor.execute(add_Municipio, data_Municipio)\n",
    "        \n",
    "    except:\n",
    "        pass\n",
    "    cnx.commit()"
   ]
  },
  {
   "cell_type": "code",
   "execution_count": null,
   "id": "0677de7b-48cb-4dda-add1-1e21a4768a38",
   "metadata": {},
   "outputs": [],
   "source": [
    "for i in range(0,len(gender)):\n",
    "    try:\n",
    "        add_nombre = (\"INSERT INTO Gender \"\n",
    "                        \"(name) \"\n",
    "                        \"VALUES (%(name)s)\")\n",
    "        data_nombre = ({'name': gender['gender'][i]})\n",
    "        cursor.execute(add_nombre, data_nombre)\n",
    "        \n",
    "    except:\n",
    "        pass\n",
    "    cnx.commit()"
   ]
  },
  {
   "cell_type": "code",
   "execution_count": null,
   "id": "674f2e96-9c6e-4f77-85c6-f06dc07fa9df",
   "metadata": {},
   "outputs": [],
   "source": [
    "for i in range(0,len(status)):\n",
    "    try:\n",
    "        add_status = (\"INSERT INTO Status \"\n",
    "                            \"(name)\"\n",
    "                            \"VALUES (%(name)s)\")\n",
    "        data_status = ({'name': status['status'][i]})\n",
    "        cursor.execute(add_status, data_status)\n",
    "        \n",
    "    except:\n",
    "        pass\n",
    "    cnx.commit()"
   ]
  },
  {
   "cell_type": "code",
   "execution_count": null,
   "id": "c45339f8-f8f6-4f90-a754-fa07f1b942fc",
   "metadata": {},
   "outputs": [],
   "source": [
    "for i in range(0,len(type_contagion)):\n",
    "    try:\n",
    "        add_type = (\"INSERT INTO Type_Contagion \"\n",
    "                            \"(name) \"\n",
    "                            \"VALUES (%(name)s)\")\n",
    "        data_type = ({'name': type_contagion['type_contagion'][i]})\n",
    "        cursor.execute(add_type, data_type)\n",
    "    except:\n",
    "        pass\n",
    "    cnx.commit()"
   ]
  },
  {
   "cell_type": "markdown",
   "id": "63eb354e-b66c-404c-a9c4-00c606d8b8fe",
   "metadata": {},
   "source": [
    "### Adquisicion de los identificadores de las tablas de status, gender y type_contagion "
   ]
  },
  {
   "cell_type": "code",
   "execution_count": null,
   "id": "2839e982-b922-4440-a019-be29922053fb",
   "metadata": {},
   "outputs": [],
   "source": [
    "cursor.execute(\"SELECT * FROM Status\" )\n",
    "\n",
    "result = cursor.fetchall()\n",
    "st_sql=pd.DataFrame(result, columns=['id_status', 'status'])\n",
    "Data=Data.merge(st_sql)\n",
    "\n",
    "cursor.execute(\"SELECT * FROM Gender\" )\n",
    "\n",
    "result = cursor.fetchall()\n",
    "gen_sql=pd.DataFrame(result, columns=['id_gender', 'gender'])\n",
    "\n",
    "Data=Data.merge(gen_sql)\n",
    "\n",
    "cursor.execute(\"SELECT * FROM Type_Contagion\" )\n",
    "\n",
    "result = cursor.fetchall()\n",
    "gen_type_con=pd.DataFrame(result, columns=['id_type_con', 'type_contagion'])\n",
    "\n",
    "Data=Data.merge(gen_type_con)\n",
    "Data.head(2)"
   ]
  },
  {
   "cell_type": "markdown",
   "id": "f5a548b2-0a58-4fef-8f27-91bdd4633fdb",
   "metadata": {},
   "source": [
    "### Actualizacion de datos individuales \n",
    "La siguiente casilla es la mas compleja de ejecutar, ya que realiza la actualización para cada dato de forma individual."
   ]
  },
  {
   "cell_type": "code",
   "execution_count": null,
   "id": "2f934729-af49-4712-bf98-1258f64cf20f",
   "metadata": {},
   "outputs": [],
   "source": [
    "for i in range(0,len(Data)):\n",
    "    add_case = (\"\"\"INSERT INTO Cases \n",
    "                        (id_case,\n",
    "                            id_municipality,\n",
    "                            age,\n",
    "                            id_gender,\n",
    "                            id_type_Contagion,\n",
    "                            id_status,\n",
    "                            date_symptom,\n",
    "                            date_death,\n",
    "                            date_diagnosis,\n",
    "                            date_recovery)\n",
    "                     VALUES (\n",
    "                            %(id_case)s,\n",
    "                            %(id_municipality)s,\n",
    "                            %(age)s,\n",
    "                            %(id_gender)s,\n",
    "                            %(id_type_Contagion)s,\n",
    "                            %(id_status)s,\n",
    "                            %(date_symptom)s,\n",
    "                            %(date_death)s,\n",
    "                            %(date_diagnosis)s,\n",
    "                            %(date_recovery)s) \"\"\")\n",
    "    data_case = ({    'id_case' : int(Data['id_case'][i]),\n",
    "                      'id_municipality':int(Data['id_department'][i]),\n",
    "                      'age':int(Data['age'][i]),\n",
    "                      'id_gender':int(Data['id_gender'][i]),\n",
    "                      'id_type_Contagion':int(Data['id_type_con'][i]),\n",
    "                      'id_status':int(Data['id_status'][i]),\n",
    "                      'date_symptom':str(Data['date_symptom'][i]),\n",
    "                      'date_death':str(Data['date_death'][i]),\n",
    "                      'date_diagnosis':str(Data['date_diagnosis'][i]),\n",
    "                      'date_recovery':str(Data['date_recovery'][i])})\n",
    "    try:\n",
    "        cursor.execute(add_case, data_case)\n",
    "    except:\n",
    "        print('Dato ya agregado')\n",
    "    cnx.commit()"
   ]
  },
  {
   "cell_type": "markdown",
   "id": "2e34e00c-fcfa-4370-b00b-b2b8087a6871",
   "metadata": {},
   "source": [
    "### cierre de la conexion\n",
    "Al ejecutar la siguiente casilla se cierra la conexion con el servidor y la base de datos deja de estar disponible para este documento"
   ]
  },
  {
   "cell_type": "code",
   "execution_count": null,
   "id": "c77ec41b-60b1-44e1-ab24-4272f0b32a8d",
   "metadata": {},
   "outputs": [],
   "source": [
    "cursor.close()\n",
    "cnx.close()"
   ]
  }
 ],
 "metadata": {
  "kernelspec": {
   "display_name": "Python 3 (ipykernel)",
   "language": "python",
   "name": "python3"
  },
  "language_info": {
   "codemirror_mode": {
    "name": "ipython",
    "version": 3
   },
   "file_extension": ".py",
   "mimetype": "text/x-python",
   "name": "python",
   "nbconvert_exporter": "python",
   "pygments_lexer": "ipython3",
   "version": "3.12.2"
  }
 },
 "nbformat": 4,
 "nbformat_minor": 5
}
